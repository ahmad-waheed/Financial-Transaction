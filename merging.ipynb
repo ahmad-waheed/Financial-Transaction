{
 "cells": [
  {
   "cell_type": "code",
   "execution_count": null,
   "metadata": {
    "id": "G0ZTFvqRmrqB"
   },
   "outputs": [],
   "source": [
    "import pandas as pd"
   ]
  },
  {
   "cell_type": "code",
   "execution_count": null,
   "metadata": {
    "id": "bkfDyecLm-9_"
   },
   "outputs": [],
   "source": [
    "import pandas as pd\n",
    "\n",
    "# Read the CSV files into DataFrames\n",
    "df = pd.read_csv('/content/manufacturer.csv')\n",
    "retail = pd.read_csv('/content/Retail.csv')\n",
    "health_cre = pd.read_csv('/content/healthcare.csv')\n",
    "soft = pd.read_csv('/content/soft_industry.csv')\n",
    "real = pd.read_csv('/content/real_estate_financial_data.csv')\n",
    "\n",
    "# Create a list of column names for each DataFrame\n",
    "column_names = [df.columns.tolist(), retail.columns.tolist(), health_cre.columns.tolist(), soft.columns.tolist(), real.columns.tolist()]\n",
    "\n",
    "# Check if all column names are the same\n",
    "if all(names == column_names[0] for names in column_names[1:]):\n",
    "    print(\"All DataFrames have the same column names.\")\n",
    "else:\n",
    "    print(\"Not all DataFrames have the same column names.\")\n"
   ]
  },
  {
   "cell_type": "code",
   "execution_count": null,
   "metadata": {
    "colab": {
     "base_uri": "https://localhost:8080/"
    },
    "id": "2G8rgwwB0yeE",
    "outputId": "8990df3f-956b-45d5-d1f9-bbd734e4f94e"
   },
   "outputs": [
    {
     "name": "stdout",
     "output_type": "stream",
     "text": [
      "Differences in health_cre: {'Account_Number', 'Reference_Number', 'Payment_Method', 'Vendor_or_Consumer', 'Customer_Type', 'Geographical_Location'}\n",
      "Differences in soft: {'Department'}\n"
     ]
    }
   ],
   "source": [
    "def get_column_differences(actual_columns, target_columns):\n",
    "    \"\"\"\n",
    "    Get the differences between actual column names and target column names.\n",
    "\n",
    "    Parameters:\n",
    "        actual_columns (list): List of actual column names.\n",
    "        target_columns (list): List of target column names.\n",
    "\n",
    "    Returns:\n",
    "        dict: Dictionary containing the differences.\n",
    "    \"\"\"\n",
    "    return set(actual_columns) - set(target_columns)\n",
    "\n",
    "# Define target column names\n",
    "target_columns = ['Description', 'Amount', 'Category', 'Subcategory', 'Date', 'Company ID', 'Industry', 'vendor_or_consumer',\n",
    "                  'Payment Method', 'Currency', 'Geographical Location', 'Account Number', 'Reference Number',\n",
    "                  'Approval Status', 'Customer Type']\n",
    "\n",
    "# Columns in health_cre\n",
    "health_cre_columns = ['Description', 'Amount', 'Category', 'Subcategory', 'Date', 'Company ID', 'Industry',\n",
    "                      'Vendor_or_Consumer', 'Payment_Method', 'Currency', 'Geographical_Location', 'Account_Number',\n",
    "                      'Reference_Number', 'Approval Status', 'Customer_Type']\n",
    "\n",
    "# Get differences for health_cre\n",
    "health_cre_differences = get_column_differences(health_cre_columns, target_columns)\n",
    "print(\"Differences in health_cre:\", health_cre_differences)\n",
    "\n",
    "# Columns in soft\n",
    "soft_columns = ['Description', 'Amount', 'Category', 'Subcategory', 'Date', 'Company ID', 'Industry',\n",
    "                'vendor_or_consumer', 'Payment Method', 'Currency', 'Geographical Location', 'Account Number',\n",
    "                'Reference Number', 'Approval Status', 'Department', 'Customer Type']\n",
    "\n",
    "# Get differences for soft\n",
    "soft_differences = get_column_differences(soft_columns, target_columns)\n",
    "print(\"Differences in soft:\", soft_differences)\n"
   ]
  },
  {
   "cell_type": "code",
   "execution_count": null,
   "metadata": {
    "colab": {
     "base_uri": "https://localhost:8080/"
    },
    "id": "O6m2Gbg_sWl9",
    "outputId": "32070b9f-9f9b-443a-821b-06debbb5c282"
   },
   "outputs": [
    {
     "name": "stdout",
     "output_type": "stream",
     "text": [
      "All columns in df are same as target column names.\n",
      "All columns in retail are same as target column names.\n",
      "All columns in health_cre are same as target column names.\n",
      "All columns in soft are same as target column names.\n",
      "All columns in real are same as target column names.\n"
     ]
    }
   ],
   "source": [
    "import pandas as pd\n",
    "\n",
    "# Read the CSV files into DataFrames\n",
    "df = pd.read_csv('/content/manufacturer.csv')\n",
    "retail = pd.read_csv('/content/Retail.csv')\n",
    "health_cre = pd.read_csv('/content/healthcare.csv')\n",
    "soft = pd.read_csv('/content/soft_industry.csv')\n",
    "real = pd.read_csv('/content/real_estate_financial_data.csv')\n",
    "\n",
    "# Define the column names you want to compare\n",
    "target_column_names = ['Description', 'Amount', 'Category', 'Subcategory', 'Date',\n",
    "                      'Company ID', 'Industry', 'vendor_or_consumer', 'Payment Method',\n",
    "                      'Currency', 'Geographical Location', 'Account Number',\n",
    "                      'Reference Number', 'Approval Status', 'Customer Type']\n",
    "\n",
    "# Create a dictionary to store column names for each DataFrame\n",
    "column_names_dict = {\n",
    "    'df': df.columns.tolist(),\n",
    "    'retail': retail.columns.tolist(),\n",
    "    'health_cre': health_cre.columns.tolist(),\n",
    "    'soft': soft.columns.tolist(),\n",
    "    'real': real.columns.tolist()\n",
    "}\n",
    "\n",
    "# Compare column names of each DataFrame with the target column names\n",
    "for df_name, columns in column_names_dict.items():\n",
    "    diff_columns = set(target_column_names).symmetric_difference(set(columns))\n",
    "    if diff_columns:\n",
    "        print(f\"Columns in {df_name} are different from target column names:\")\n",
    "        print(f\"{df_name}: {columns}\")\n",
    "        print(f\"Differences: {diff_columns}\")\n",
    "        print()\n",
    "    else:\n",
    "        print(f\"All columns in {df_name} are same as target column names.\")\n"
   ]
  },
  {
   "cell_type": "code",
   "execution_count": null,
   "metadata": {
    "id": "RpyUkkjOw6Gh"
   },
   "outputs": [],
   "source": [
    "import pandas as pd\n",
    "\n",
    "# Read all the datasets\n",
    "manufacturer = pd.read_csv('/content/manufacturer.csv')\n",
    "retail = pd.read_csv('/content/Retail.csv')\n",
    "health = pd.read_csv('/content/healthcare.csv')\n",
    "soft = pd.read_csv('/content/soft_industry.csv')\n",
    "real = pd.read_csv('/content/real_estate_financial_data.csv')\n",
    "\n",
    "# Concatenate all the datasets\n",
    "merged_df = pd.concat([soft, real, manufacturer, retail, health], ignore_index=True)\n",
    "\n",
    "# Save the merged dataset to a new CSV file\n",
    "merged_df.to_csv('merged_dataset.csv', index=False)\n"
   ]
  }
 ],
 "metadata": {
  "colab": {
   "provenance": []
  },
  "kernelspec": {
   "display_name": "Python 3 (ipykernel)",
   "language": "python",
   "name": "python3"
  },
  "language_info": {
   "codemirror_mode": {
    "name": "ipython",
    "version": 3
   },
   "file_extension": ".py",
   "mimetype": "text/x-python",
   "name": "python",
   "nbconvert_exporter": "python",
   "pygments_lexer": "ipython3",
   "version": "3.11.7"
  }
 },
 "nbformat": 4,
 "nbformat_minor": 4
}
